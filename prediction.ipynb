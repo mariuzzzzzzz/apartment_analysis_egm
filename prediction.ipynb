{
 "cells": [
  {
   "cell_type": "markdown",
   "metadata": {},
   "source": [
    "### Imports"
   ]
  },
  {
   "cell_type": "code",
   "execution_count": 1,
   "metadata": {},
   "outputs": [],
   "source": [
    "import pandas as pd\n",
    "from sklearn.model_selection import train_test_split\n",
    "from sklearn.ensemble import RandomForestRegressor, GradientBoostingRegressor\n",
    "from sklearn.linear_model import LinearRegression\n",
    "from sklearn.metrics import mean_squared_error, r2_score"
   ]
  },
  {
   "cell_type": "markdown",
   "metadata": {},
   "source": [
    "### Trainieren der Modelle"
   ]
  },
  {
   "cell_type": "code",
   "execution_count": 2,
   "metadata": {},
   "outputs": [
    {
     "name": "stdout",
     "output_type": "stream",
     "text": [
      "Random Forest R^2: 0.2771243285063647, MSE: 28.567441860465117\n",
      "Gradient Boosting R^2: 0.21168654385145402, MSE: 31.153488372093022\n",
      "Linear Regression R^2: 0.027809507474016226, MSE: 38.42015503875969\n"
     ]
    }
   ],
   "source": [
    "# Laden Trainingsdaten\n",
    "train_data = pd.read_csv('./new_abgebrochene_wohnungen.csv')\n",
    "\n",
    "# Vorbereitung der Daten\n",
    "X = train_data.drop(['EGID', 'Year of Demolition'], axis=1)\n",
    "y = train_data['Year of Demolition']\n",
    "construction_year = train_data['Date of Construction']\n",
    "\n",
    "# Daten in Trainings- und Validierungssätze aufteilen\n",
    "X_train, X_valid, y_train, y_valid = train_test_split(X, y, test_size=0.2, random_state=42)\n",
    "construction_year_train, construction_year_valid = train_test_split(construction_year, test_size=0.2, random_state=42)\n",
    "\n",
    "# Initialisierung der Modelle\n",
    "random_forest = RandomForestRegressor(random_state=42)\n",
    "gradient_boosting = GradientBoostingRegressor(random_state=42)\n",
    "linear_regression = LinearRegression()\n",
    "\n",
    "# Training der Modelle\n",
    "random_forest.fit(X_train, y_train)\n",
    "gradient_boosting.fit(X_train, y_train)\n",
    "linear_regression.fit(X_train, y_train)\n",
    "\n",
    "# Vorhersagen auf dem Validierungssatz\n",
    "rf_preds = random_forest.predict(X_valid)\n",
    "gb_preds = gradient_boosting.predict(X_valid)\n",
    "lr_preds = linear_regression.predict(X_valid)\n",
    "\n",
    "# Rundung der Vorhersagen auf ganze Zahlen\n",
    "rf_preds_rounded = [round(num) for num in rf_preds]\n",
    "gb_preds_rounded = [round(num) for num in gb_preds]\n",
    "lr_preds_rounded = [round(num) for num in lr_preds]\n",
    "\n",
    "# Berechnung des R^2 und MSE für jedes Modell\n",
    "rf_r2 = r2_score(y_valid, rf_preds_rounded)\n",
    "gb_r2 = r2_score(y_valid, gb_preds_rounded)\n",
    "lr_r2 = r2_score(y_valid, lr_preds_rounded)\n",
    "rf_mse = mean_squared_error(y_valid, rf_preds_rounded)\n",
    "gb_mse = mean_squared_error(y_valid, gb_preds_rounded)\n",
    "lr_mse = mean_squared_error(y_valid, lr_preds_rounded)\n",
    "\n",
    "print(f\"Random Forest R^2: {rf_r2}, MSE: {rf_mse}\")\n",
    "print(f\"Gradient Boosting R^2: {gb_r2}, MSE: {gb_mse}\")\n",
    "print(f\"Linear Regression R^2: {lr_r2}, MSE: {lr_mse}\")\n"
   ]
  },
  {
   "cell_type": "markdown",
   "metadata": {},
   "source": [
    "### Abbruchjahr mind. 60 Jahre nach Baujahr"
   ]
  },
  {
   "cell_type": "code",
   "execution_count": 3,
   "metadata": {},
   "outputs": [
    {
     "name": "stdout",
     "output_type": "stream",
     "text": [
      "Random Forest R^2 (corrected): 0.00984157859395085, MSE (corrected): 39.13023255813953\n",
      "Gradient Boosting R^2 (corrected): -0.026800442309937944, MSE (corrected): 40.57829457364341\n",
      "Linear Regression R^2 (corrected): -0.1686215403480087, MSE (corrected): 46.18294573643411\n"
     ]
    }
   ],
   "source": [
    "# Korrektur der Vorhersagen\n",
    "rf_preds_corrected = [max(pred, year + 60) for pred, year in zip(rf_preds, construction_year_valid)]\n",
    "gb_preds_corrected = [max(pred, year + 60) for pred, year in zip(gb_preds, construction_year_valid)]\n",
    "lr_preds_corrected = [max(pred, year + 60) for pred, year in zip(lr_preds, construction_year_valid)]\n",
    "\n",
    "# Rundung der korrigierten Vorhersagen auf ganze Zahlen\n",
    "rf_preds_rounded_corrected = [round(num) for num in rf_preds_corrected]\n",
    "gb_preds_rounded_corrected = [round(num) for num in gb_preds_corrected]\n",
    "lr_preds_rounded_corrected = [round(num) for num in lr_preds_corrected]\n",
    "\n",
    "# Berechnung des R^2 und MSE für jedes Modell mit den korrigierten Vorhersagen\n",
    "rf_r2_corrected = r2_score(y_valid, rf_preds_rounded_corrected)\n",
    "gb_r2_corrected = r2_score(y_valid, gb_preds_rounded_corrected)\n",
    "lr_r2_corrected = r2_score(y_valid, lr_preds_rounded_corrected)\n",
    "rf_mse_corrected = mean_squared_error(y_valid, rf_preds_rounded_corrected)\n",
    "gb_mse_corrected = mean_squared_error(y_valid, gb_preds_rounded_corrected)\n",
    "lr_mse_corrected = mean_squared_error(y_valid, lr_preds_rounded_corrected)\n",
    "\n",
    "print(f\"Random Forest R^2 (corrected): {rf_r2_corrected}, MSE (corrected): {rf_mse_corrected}\")\n",
    "print(f\"Gradient Boosting R^2 (corrected): {gb_r2_corrected}, MSE (corrected): {gb_mse_corrected}\")\n",
    "print(f\"Linear Regression R^2 (corrected): {lr_r2_corrected}, MSE (corrected): {lr_mse_corrected}\")\n"
   ]
  },
  {
   "cell_type": "markdown",
   "metadata": {},
   "source": [
    "### Prediction"
   ]
  },
  {
   "cell_type": "code",
   "execution_count": 4,
   "metadata": {},
   "outputs": [],
   "source": [
    "# Laden der Testdaten\n",
    "test_data = pd.read_csv('./new_bestehende_wohnungen.csv')\n",
    "prediction_data = test_data.drop(['EGID'], axis=1)\n",
    "construction_year_test = test_data['Date of Construction']\n",
    "\n",
    "# Das beste Modell verwenden (Random Forest)\n",
    "final_predictions = random_forest.predict(prediction_data)\n",
    "\n",
    "# Korrektur und Rundung der Vorhersagen für den Testdatensatz\n",
    "final_predictions_corrected = [max(pred, year + 60) for pred, year in zip(final_predictions, construction_year_test)]\n",
    "final_predictions_rounded = [round(num) for num in final_predictions_corrected]\n",
    "\n",
    "# Die Vorhersagen speichern\n",
    "test_data['Predicted Demolition Year'] = final_predictions_rounded\n",
    "test_data.to_csv('./prediction_bestehende_wohnungen.csv', index=False)"
   ]
  },
  {
   "cell_type": "code",
   "execution_count": 1,
   "metadata": {},
   "outputs": [
    {
     "name": "stdout",
     "output_type": "stream",
     "text": [
      "-----------------------------------\n",
      "POSIX\n",
      "Darwin | 23.4.0\n",
      "Datetime: 2024-05-18 16:28:22\n",
      "Python Version: 3.10.9\n",
      "-----------------------------------\n"
     ]
    }
   ],
   "source": [
    "import os\n",
    "import platform\n",
    "import socket\n",
    "from platform import python_version\n",
    "from datetime import datetime\n",
    "\n",
    "print('-----------------------------------')\n",
    "print(os.name.upper())\n",
    "print(platform.system(), '|', platform.release())\n",
    "print('Datetime:', datetime.now().strftime(\"%Y-%m-%d %H:%M:%S\"))\n",
    "print('Python Version:', python_version())\n",
    "print('-----------------------------------')"
   ]
  }
 ],
 "metadata": {
  "kernelspec": {
   "display_name": "spenv",
   "language": "python",
   "name": "python3"
  },
  "language_info": {
   "codemirror_mode": {
    "name": "ipython",
    "version": 3
   },
   "file_extension": ".py",
   "mimetype": "text/x-python",
   "name": "python",
   "nbconvert_exporter": "python",
   "pygments_lexer": "ipython3",
   "version": "3.10.9"
  }
 },
 "nbformat": 4,
 "nbformat_minor": 2
}

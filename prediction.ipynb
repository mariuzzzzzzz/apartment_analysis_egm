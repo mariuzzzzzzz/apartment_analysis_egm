{
 "cells": [
  {
   "cell_type": "code",
   "execution_count": 21,
   "metadata": {},
   "outputs": [],
   "source": [
    "import pandas as pd\n",
    "from sklearn.model_selection import train_test_split\n",
    "from sklearn.ensemble import RandomForestRegressor, GradientBoostingRegressor\n",
    "from sklearn.linear_model import LinearRegression\n",
    "from sklearn.metrics import mean_squared_error, r2_score"
   ]
  },
  {
   "cell_type": "code",
   "execution_count": 22,
   "metadata": {},
   "outputs": [
    {
     "name": "stdout",
     "output_type": "stream",
     "text": [
      "Random Forest R^2: -23.647565288158354, MSE: 974.0511627906977\n",
      "Gradient Boosting R^2: -23.619711075265673, MSE: 972.9503875968992\n",
      "Linear Regression R^2: -23.612178668398922, MSE: 972.6527131782946\n"
     ]
    }
   ],
   "source": [
    "# Laden Sie Ihre Trainingsdaten\n",
    "train_data = pd.read_csv('/Users/mariusaffolter/Documents/200_Studium/220_Semester/24FS/Einsatz Geodaten Marketing/Project/apartment_analysis_egm/new_abgebrochene_wohnungen.csv')\n",
    "\n",
    "# Vorbereitung der Daten\n",
    "X = train_data.drop(['EGID', 'Year of Demolition'], axis=1)\n",
    "y = train_data['Year of Demolition']\n",
    "construction_year = train_data['Date of Construction']\n",
    "\n",
    "# Daten in Trainings- und Validierungssätze aufteilen\n",
    "X_train, X_valid, y_train, y_valid = train_test_split(X, y, test_size=0.2, random_state=42)\n",
    "construction_year_train, construction_year_valid = train_test_split(construction_year, test_size=0.2, random_state=42)\n",
    "\n",
    "# Initialisierung der Modelle\n",
    "random_forest = RandomForestRegressor(random_state=42)\n",
    "gradient_boosting = GradientBoostingRegressor(random_state=42)\n",
    "linear_regression = LinearRegression()\n",
    "\n",
    "# Training der Modelle\n",
    "random_forest.fit(X_train, y_train)\n",
    "gradient_boosting.fit(X_train, y_train)\n",
    "linear_regression.fit(X_train, y_train)\n",
    "\n",
    "# Vorhersagen auf dem Validierungssatz\n",
    "rf_preds = random_forest.predict(X_valid)\n",
    "gb_preds = gradient_boosting.predict(X_valid)\n",
    "lr_preds = linear_regression.predict(X_valid)\n",
    "\n",
    "# Korrektur der Vorhersagen\n",
    "rf_preds_corrected = [max(pred, year + 100) for pred, year in zip(rf_preds, construction_year_valid)]\n",
    "gb_preds_corrected = [max(pred, year + 100) for pred, year in zip(gb_preds, construction_year_valid)]\n",
    "lr_preds_corrected = [max(pred, year + 100) for pred, year in zip(lr_preds, construction_year_valid)]\n",
    "\n",
    "# Rundung der korrigierten Vorhersagen auf ganze Zahlen\n",
    "rf_preds_rounded = [round(num) for num in rf_preds_corrected]\n",
    "gb_preds_rounded = [round(num) for num in gb_preds_corrected]\n",
    "lr_preds_rounded = [round(num) for num in lr_preds_corrected]\n",
    "\n",
    "# Berechnung des R^2 und MSE für jedes Modell mit den korrigierten Vorhersagen\n",
    "rf_r2 = r2_score(y_valid, rf_preds_rounded)\n",
    "gb_r2 = r2_score(y_valid, gb_preds_rounded)\n",
    "lr_r2 = r2_score(y_valid, lr_preds_rounded)\n",
    "rf_mse = mean_squared_error(y_valid, rf_preds_rounded)\n",
    "gb_mse = mean_squared_error(y_valid, gb_preds_rounded)\n",
    "lr_mse = mean_squared_error(y_valid, lr_preds_rounded)\n",
    "\n",
    "print(f\"Random Forest R^2: {rf_r2}, MSE: {rf_mse}\")\n",
    "print(f\"Gradient Boosting R^2: {gb_r2}, MSE: {gb_mse}\")\n",
    "print(f\"Linear Regression R^2: {lr_r2}, MSE: {lr_mse}\")"
   ]
  },
  {
   "cell_type": "code",
   "execution_count": 23,
   "metadata": {},
   "outputs": [],
   "source": [
    "# Laden Sie Ihre Testdaten\n",
    "test_data = pd.read_csv('/Users/mariusaffolter/Documents/200_Studium/220_Semester/24FS/Einsatz Geodaten Marketing/Project/apartment_analysis_egm/new_bestehende_wohnungen.csv')\n",
    "prediction_data = test_data.drop(['EGID'], axis=1)\n",
    "construction_year_test = test_data['Date of Construction']\n",
    "\n",
    "# Das beste Modell verwenden (Random Forest)\n",
    "final_predictions = random_forest.predict(prediction_data)\n",
    "\n",
    "# Korrektur und Rundung der Vorhersagen für den Testdatensatz\n",
    "final_predictions_corrected = [max(pred, year + 100) for pred, year in zip(final_predictions, construction_year_test)]\n",
    "final_predictions_rounded = [round(num) for num in final_predictions_corrected]\n",
    "\n",
    "# Die Vorhersagen speichern oder weiter verwenden\n",
    "test_data['Predicted Demolition Year'] = final_predictions_rounded\n",
    "test_data.to_csv('/Users/mariusaffolter/Documents/200_Studium/220_Semester/24FS/Einsatz Geodaten Marketing/Project/apartment_analysis_egm/prediction_bestehende_wohnungen.csv', index=False)"
   ]
  }
 ],
 "metadata": {
  "kernelspec": {
   "display_name": "spenv",
   "language": "python",
   "name": "python3"
  },
  "language_info": {
   "codemirror_mode": {
    "name": "ipython",
    "version": 3
   },
   "file_extension": ".py",
   "mimetype": "text/x-python",
   "name": "python",
   "nbconvert_exporter": "python",
   "pygments_lexer": "ipython3",
   "version": "3.10.9"
  }
 },
 "nbformat": 4,
 "nbformat_minor": 2
}

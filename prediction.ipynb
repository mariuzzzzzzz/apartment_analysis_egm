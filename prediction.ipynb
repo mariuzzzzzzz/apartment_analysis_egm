{
 "cells": [
  {
   "cell_type": "code",
   "execution_count": 6,
   "metadata": {},
   "outputs": [],
   "source": [
    "import pandas as pd\n",
    "from sklearn.model_selection import train_test_split\n",
    "from sklearn.ensemble import RandomForestRegressor, GradientBoostingRegressor\n",
    "from sklearn.linear_model import LinearRegression\n",
    "from sklearn.metrics import mean_squared_error"
   ]
  },
  {
   "cell_type": "code",
   "execution_count": 14,
   "metadata": {},
   "outputs": [
    {
     "name": "stdout",
     "output_type": "stream",
     "text": [
      "Random Forest MSE: 28.547079106839448\n",
      "Gradient Boosting MSE: 31.074850315956795\n",
      "Linear Regression MSE: 38.45232558139535\n"
     ]
    }
   ],
   "source": [
    "# Laden Sie Ihre Trainingsdaten\n",
    "train_data = pd.read_csv('/Users/mariusaffolter/Documents/200_Studium/220_Semester/24FS/Einsatz Geodaten Marketing/Project/apartment_analysis_egm/new_abgebrochene_wohnungen.csv')\n",
    "\n",
    "# Vorbereitung der Daten\n",
    "X = train_data.drop(['EGID', 'Year of Demolition'], axis=1)\n",
    "y = train_data['Year of Demolition']\n",
    "\n",
    "# Daten in Trainings- und Validierungssätze aufteilen\n",
    "X_train, X_valid, y_train, y_valid = train_test_split(X, y, test_size=0.2, random_state=42)\n",
    "\n",
    "# Initialisierung der Modelle\n",
    "random_forest = RandomForestRegressor(random_state=42)\n",
    "gradient_boosting = GradientBoostingRegressor(random_state=42)\n",
    "linear_regression = LinearRegression()\n",
    "\n",
    "# Training der Modelle\n",
    "random_forest.fit(X_train, y_train)\n",
    "gradient_boosting.fit(X_train, y_train)\n",
    "linear_regression.fit(X_train, y_train)\n",
    "\n",
    "# Vorhersagen auf dem Validierungssatz\n",
    "rf_preds = random_forest.predict(X_valid)\n",
    "gb_preds = gradient_boosting.predict(X_valid)\n",
    "lr_preds = linear_regression.predict(X_valid)\n",
    "\n",
    "# Berechnung des MSE für jedes Modell\n",
    "rf_mse = mean_squared_error(y_valid, rf_preds)\n",
    "gb_mse = mean_squared_error(y_valid, gb_preds)\n",
    "lr_mse = mean_squared_error(y_valid, lr_preds)\n",
    "\n",
    "print(f\"Random Forest MSE: {rf_mse}\")\n",
    "print(f\"Gradient Boosting MSE: {gb_mse}\")\n",
    "print(f\"Linear Regression MSE: {lr_mse}\")"
   ]
  },
  {
   "cell_type": "code",
   "execution_count": 15,
   "metadata": {},
   "outputs": [
    {
     "name": "stdout",
     "output_type": "stream",
     "text": [
      "Predictions saved to predicted_demolition_years.csv.\n"
     ]
    }
   ],
   "source": [
    "# Laden Sie Ihre Testdaten\n",
    "test_data = pd.read_csv('/Users/mariusaffolter/Documents/200_Studium/220_Semester/24FS/Einsatz Geodaten Marketing/Project/apartment_analysis_egm/new_bestehende_wohnungen.csv')\n",
    "prediction_data = test_data.drop(['EGID'], axis=1)\n",
    "\n",
    "# Das beste Modell verwenden (Random Forest)\n",
    "final_predictions = random_forest.predict(prediction_data)\n",
    "\n",
    "# Die Vorhersagen speichern oder weiter verwenden\n",
    "test_data['Predicted Demolition Year'] = final_predictions\n",
    "test_data.to_csv('/Users/mariusaffolter/Documents/200_Studium/220_Semester/24FS/Einsatz Geodaten Marketing/Project/apartment_analysis_egm/prediction_bestehende_wohnungen.csv', index=False)\n",
    "print(\"Predictions saved to predicted_demolition_years.csv.\")\n"
   ]
  }
 ],
 "metadata": {
  "kernelspec": {
   "display_name": "spenv",
   "language": "python",
   "name": "python3"
  },
  "language_info": {
   "codemirror_mode": {
    "name": "ipython",
    "version": 3
   },
   "file_extension": ".py",
   "mimetype": "text/x-python",
   "name": "python",
   "nbconvert_exporter": "python",
   "pygments_lexer": "ipython3",
   "version": "3.10.9"
  }
 },
 "nbformat": 4,
 "nbformat_minor": 2
}

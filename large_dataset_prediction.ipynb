{
 "cells": [
  {
   "cell_type": "code",
   "execution_count": 1,
   "metadata": {},
   "outputs": [],
   "source": [
    "import pandas as pd\n",
    "from sklearn.model_selection import train_test_split\n",
    "from sklearn.ensemble import GradientBoostingRegressor  # Geändert zu einem komplexeren Modelltyp\n",
    "from sklearn.metrics import mean_squared_error\n",
    "from sklearn.preprocessing import OneHotEncoder\n",
    "import numpy as np"
   ]
  },
  {
   "cell_type": "code",
   "execution_count": 2,
   "metadata": {},
   "outputs": [
    {
     "name": "stdout",
     "output_type": "stream",
     "text": [
      "Columns in abgebrochene_wohnungen: Index(['EGID', 'Official Building No', 'Building Status', 'Building Category',\n",
      "       'Building Class', 'Date of Construction', 'Year of Demolition',\n",
      "       'Surface Area of Building', 'Number of Floors', 'Heating Device Info',\n",
      "       'Record Modification Info'],\n",
      "      dtype='object')\n",
      "Sample data from abgebrochene_wohnungen:      EGID Official Building No  Building Status  Building Category  \\\n",
      "0  140078                  854             1007               1020   \n",
      "1  140604                  868             1007               1020   \n",
      "2  141094                 7597             1007               1020   \n",
      "3  141126                 1920             1007               1020   \n",
      "4  141156                 7057             1007               1020   \n",
      "\n",
      "   Building Class Date of Construction  Year of Demolition  \\\n",
      "0            1121                 1837                2007   \n",
      "1            1121                 1838                2009   \n",
      "2            1110                 1950                2009   \n",
      "3            1110              1951-01                2023   \n",
      "4            1122                 1945                2018   \n",
      "\n",
      "   Surface Area of Building  Number of Floors  \\\n",
      "0                      86.0                 6   \n",
      "1                     147.0                 5   \n",
      "2                     200.0                 3   \n",
      "3                     215.0                 4   \n",
      "4                     267.0                 5   \n",
      "\n",
      "                                 Heating Device Info  \\\n",
      "0  heatGeneratorHeating: 7430, energySourceHeatin...   \n",
      "1  heatGeneratorHeating: 7430, energySourceHeatin...   \n",
      "2  heatGeneratorHeating: 7430, energySourceHeatin...   \n",
      "3  heatGeneratorHeating: 7430, energySourceHeatin...   \n",
      "4  heatGeneratorHeating: 7430, energySourceHeatin...   \n",
      "\n",
      "                         Record Modification Info  \n",
      "0  createDate: 2001-11-29, updateDate: 2015-04-09  \n",
      "1  createDate: 2001-11-29, updateDate: 2015-04-09  \n",
      "2  createDate: 2001-11-29, updateDate: 2015-04-09  \n",
      "3  createDate: 2001-11-29, updateDate: 2023-04-27  \n",
      "4  createDate: 2001-11-29, updateDate: 2019-10-24  \n",
      "Columns in bestehende_wohnungen: Index(['EGID', 'Official Building No', 'Building Status', 'Building Category',\n",
      "       'Building Class', 'Date of Construction', 'Surface Area of Building',\n",
      "       'Number of Floors', 'Heating Device Info', 'Record Modification Info'],\n",
      "      dtype='object')\n",
      "Sample data from bestehende_wohnungen:      EGID Official Building No  Building Status  Building Category  \\\n",
      "0  140010                  639             1004               1020   \n",
      "1  140149                  386             1004               1020   \n",
      "2  140151              AA00388             1004               1020   \n",
      "3  140153                 1197             1004               1020   \n",
      "4  140179              AA00347             1004               1020   \n",
      "\n",
      "   Building Class Date of Construction  Surface Area of Building  \\\n",
      "0            1110              1280-01                       129   \n",
      "1            1122              1700-01                        58   \n",
      "2            1110              1700-01                        77   \n",
      "3            1121              1837-01                        81   \n",
      "4            1121              1812-01                        77   \n",
      "\n",
      "   Number of Floors                                Heating Device Info  \\\n",
      "0                 5  heatGeneratorHeating: 7410, energySourceHeatin...   \n",
      "1                 6  heatGeneratorHeating: 7430, energySourceHeatin...   \n",
      "2                 5  heatGeneratorHeating: 7410, energySourceHeatin...   \n",
      "3                 5  heatGeneratorHeating: 7436, energySourceHeatin...   \n",
      "4                 5  heatGeneratorHeating: 7430, energySourceHeatin...   \n",
      "\n",
      "                         Record Modification Info  \n",
      "0  createDate: 2001-11-29, updateDate: 2021-11-25  \n",
      "1  createDate: 2001-11-29, updateDate: 2021-11-25  \n",
      "2  createDate: 2001-11-29, updateDate: 2022-10-19  \n",
      "3  createDate: 2001-11-29, updateDate: 2021-11-24  \n",
      "4  createDate: 2001-11-29, updateDate: 2023-04-13  \n"
     ]
    }
   ],
   "source": [
    "# Ersetze 'dein_dateipfad' mit dem Pfad zu deinen CSV-Dateien\n",
    "abgebrochene_wohnungen_path = '/Users/mariusaffolter/Documents/200_Studium/220_Semester/24FS/Einsatz Geodaten Marketing/Project/apartment_analysis_egm/abgebrochene_wohnungen.csv'\n",
    "bestehende_wohnungen_path = '/Users/mariusaffolter/Documents/200_Studium/220_Semester/24FS/Einsatz Geodaten Marketing/Project/apartment_analysis_egm/bestehende_wohnungen.csv'\n",
    "\n",
    "try:\n",
    "    abgebrochene_wohnungen = pd.read_csv(abgebrochene_wohnungen_path)\n",
    "    print(\"Columns in abgebrochene_wohnungen:\", abgebrochene_wohnungen.columns)\n",
    "    print(\"Sample data from abgebrochene_wohnungen:\", abgebrochene_wohnungen.head())\n",
    "except Exception as e:\n",
    "    print(\"Error loading abgebrochene_wohnungen:\", e)\n",
    "\n",
    "try:\n",
    "    bestehende_wohnungen = pd.read_csv(bestehende_wohnungen_path)\n",
    "    print(\"Columns in bestehende_wohnungen:\", bestehende_wohnungen.columns)\n",
    "    print(\"Sample data from bestehende_wohnungen:\", bestehende_wohnungen.head())\n",
    "except Exception as e:\n",
    "    print(\"Error loading bestehende_wohnungen:\", e)"
   ]
  },
  {
   "cell_type": "code",
   "execution_count": 3,
   "metadata": {},
   "outputs": [
    {
     "name": "stdout",
     "output_type": "stream",
     "text": [
      "MSE: 9.78465166842956\n",
      "Predictions: [2022.91888052 2017.08415259 2022.91888052 2022.58660189 2022.22802192]\n"
     ]
    },
    {
     "name": "stderr",
     "output_type": "stream",
     "text": [
      "/opt/anaconda3/envs/spenv/lib/python3.10/site-packages/sklearn/preprocessing/_encoders.py:828: FutureWarning: `sparse` was renamed to `sparse_output` in version 1.2 and will be removed in 1.4. `sparse_output` is ignored unless you leave `sparse` to its default value.\n",
      "  warnings.warn(\n"
     ]
    }
   ],
   "source": [
    "# Daten laden\n",
    "abgebrochene_wohnungen = pd.read_csv('/Users/mariusaffolter/Documents/200_Studium/220_Semester/24FS/Einsatz Geodaten Marketing/Project/apartment_analysis_egm/abgebrochene_wohnungen.csv')\n",
    "\n",
    "# Bereinigung der Spalte 'Date of Construction'\n",
    "abgebrochene_wohnungen['Date of Construction'] = abgebrochene_wohnungen['Date of Construction'].astype(str)  # Erzwinge den Typ zu String\n",
    "abgebrochene_wohnungen['Date of Construction'] = abgebrochene_wohnungen['Date of Construction'].apply(lambda x: int(x.split('-')[0]) if '-' in x else float('nan'))\n",
    "\n",
    "# Entferne Zeilen mit NaN-Werten in 'Date of Construction'\n",
    "abgebrochene_wohnungen = abgebrochene_wohnungen.dropna(subset=['Date of Construction'])\n",
    "\n",
    "# Kategorische Variablen One-Hot-Encoden\n",
    "encoder = OneHotEncoder(sparse=False, handle_unknown='ignore')\n",
    "categorical_columns = ['Building Status', 'Building Category', 'Building Class']\n",
    "encoded_categories = encoder.fit_transform(abgebrochene_wohnungen[categorical_columns])\n",
    "encoded_df = pd.DataFrame(encoded_categories, columns=encoder.get_feature_names_out())\n",
    "\n",
    "# Alter des Gebäudes als neues Feature hinzufügen\n",
    "CURRENT_YEAR = 2024  # Setze das aktuelle Jahr\n",
    "abgebrochene_wohnungen['Building Age'] = CURRENT_YEAR - abgebrochene_wohnungen['Date of Construction'].astype(int)\n",
    "\n",
    "# Numerische Daten kombinieren\n",
    "numeric_columns = ['Date of Construction', 'Surface Area of Building', 'Number of Floors', 'Building Age']  # 'Building Age' hinzugefügt\n",
    "numeric_data = abgebrochene_wohnungen[numeric_columns].reset_index(drop=True)\n",
    "combined_data = pd.concat([encoded_df, numeric_data], axis=1)\n",
    "\n",
    "# Zielvariable\n",
    "y = abgebrochene_wohnungen['Year of Demolition']\n",
    "\n",
    "# Daten aufteilen\n",
    "X_train, X_test, y_train, y_test = train_test_split(combined_data, y, test_size=0.2, random_state=42)\n",
    "\n",
    "# Gradient Boosting Regressionsmodell\n",
    "model = GradientBoostingRegressor(random_state=42)\n",
    "model.fit(X_train, y_train)\n",
    "\n",
    "# Vorhersage und Bewertung\n",
    "y_pred = model.predict(X_test)\n",
    "mse = mean_squared_error(y_test, y_pred)\n",
    "\n",
    "print('MSE:', mse)\n",
    "print('Predictions:', y_pred[:5])"
   ]
  },
  {
   "cell_type": "code",
   "execution_count": 4,
   "metadata": {},
   "outputs": [
    {
     "name": "stdout",
     "output_type": "stream",
     "text": [
      "Vorhersagen wurden gespeichert.\n"
     ]
    }
   ],
   "source": [
    "# Daten für bestehende Wohnungen laden\n",
    "bestehende_wohnungen = pd.read_csv('/Users/mariusaffolter/Documents/200_Studium/220_Semester/24FS/Einsatz Geodaten Marketing/Project/apartment_analysis_egm/bestehende_wohnungen.csv')\n",
    "\n",
    "# Bereinigung der Spalte 'Date of Construction' wie beim Trainingsdatensatz\n",
    "bestehende_wohnungen['Date of Construction'] = bestehende_wohnungen['Date of Construction'].astype(str)\n",
    "bestehende_wohnungen['Date of Construction'] = bestehende_wohnungen['Date of Construction'].apply(lambda x: int(x.split('-')[0]) if '-' in x else float('nan'))\n",
    "bestehende_wohnungen = bestehende_wohnungen.dropna(subset=['Date of Construction'])\n",
    "\n",
    "# Alter des Gebäudes als neues Feature hinzufügen (entsprechend dem Trainingsdatensatz)\n",
    "CURRENT_YEAR = 2024\n",
    "bestehende_wohnungen['Building Age'] = CURRENT_YEAR - bestehende_wohnungen['Date of Construction'].astype(int)\n",
    "\n",
    "# One-Hot-Encoding der kategorischen Variablen\n",
    "# Achtung: Verwende denselben Encoder, der für das Training verwendet wurde, um Konsistenz zu gewährleisten\n",
    "encoded_categories_bestehende = encoder.transform(bestehende_wohnungen[categorical_columns])\n",
    "encoded_df_bestehende = pd.DataFrame(encoded_categories_bestehende, columns=encoder.get_feature_names_out())\n",
    "\n",
    "# Numerische Daten kombinieren\n",
    "numeric_columns = ['Date of Construction', 'Surface Area of Building', 'Number of Floors', 'Building Age']  # Stelle sicher, dass 'Building Age' enthalten ist\n",
    "numeric_data_bestehende = bestehende_wohnungen[numeric_columns].reset_index(drop=True)\n",
    "combined_data_bestehende = pd.concat([encoded_df_bestehende, numeric_data_bestehende], axis=1)\n",
    "\n",
    "# Vorhersagen mit dem trainierten Modell erstellen\n",
    "predictions_bestehende = model.predict(combined_data_bestehende)\n",
    "\n",
    "# Ergebnisse in einen DataFrame schreiben und als CSV speichern\n",
    "bestehende_wohnungen['Predicted Year of Demolition'] = predictions_bestehende\n",
    "bestehende_wohnungen.to_csv('/Users/mariusaffolter/Documents/200_Studium/220_Semester/24FS/Einsatz Geodaten Marketing/Project/apartment_analysis_egm/large_dataset_predicted_bestehende_wohnungen.csv', index=False)\n",
    "\n",
    "print(\"Vorhersagen wurden gespeichert.\")"
   ]
  }
 ],
 "metadata": {
  "kernelspec": {
   "display_name": "spenv",
   "language": "python",
   "name": "python3"
  },
  "language_info": {
   "codemirror_mode": {
    "name": "ipython",
    "version": 3
   },
   "file_extension": ".py",
   "mimetype": "text/x-python",
   "name": "python",
   "nbconvert_exporter": "python",
   "pygments_lexer": "ipython3",
   "version": "3.10.9"
  }
 },
 "nbformat": 4,
 "nbformat_minor": 2
}

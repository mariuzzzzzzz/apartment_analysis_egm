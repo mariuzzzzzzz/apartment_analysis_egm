{
 "cells": [
  {
   "cell_type": "code",
   "execution_count": 2,
   "metadata": {},
   "outputs": [
    {
     "name": "stdout",
     "output_type": "stream",
     "text": [
      "Die Datei wurde erfolgreich gespeichert.\n"
     ]
    }
   ],
   "source": [
    "import pandas as pd\n",
    "\n",
    "# Daten laden\n",
    "file_path = './data-prep/abgebrochene_wohnungen.csv'\n",
    "data = pd.read_csv(file_path)\n",
    "\n",
    "# Behalte nur die relevanten Spalten\n",
    "columns_to_keep = ['EGID', 'Date of Construction', 'Year of Demolition', 'Surface Area of Building', 'Number of Floors']\n",
    "data = data[columns_to_keep]\n",
    "\n",
    "# Entferne alle Zeilen mit fehlenden Werten\n",
    "data.dropna(inplace=True)\n",
    "\n",
    "# Bereinige das 'Date of Construction', um nur das Jahr zu behalten\n",
    "data['Date of Construction'] = data['Date of Construction'].astype(str).apply(lambda x: x.split('-')[0]).astype(int)\n",
    "\n",
    "# Berechne das Alter des Gebäudes im Jahr 2024\n",
    "data['Age'] = 2024 - data['Date of Construction']\n",
    "\n",
    "# Speichere das bereinigte DataFrame als neue CSV-Datei\n",
    "new_file_path = './new_abgebrochene_wohnungen.csv'\n",
    "data.to_csv(new_file_path, index=False)\n",
    "\n",
    "print(\"Die Datei wurde erfolgreich gespeichert.\")"
   ]
  },
  {
   "cell_type": "code",
   "execution_count": 3,
   "metadata": {},
   "outputs": [
    {
     "name": "stdout",
     "output_type": "stream",
     "text": [
      "Die Datei wurde erfolgreich gespeichert.\n"
     ]
    }
   ],
   "source": [
    "import pandas as pd\n",
    "\n",
    "# Daten laden\n",
    "file_path = './data-prep/bestehende_wohnungen.csv'\n",
    "data = pd.read_csv(file_path)\n",
    "\n",
    "# Behalte nur die relevanten Spalten\n",
    "columns_to_keep = ['EGID', 'Date of Construction', 'Surface Area of Building', 'Number of Floors']\n",
    "data = data[columns_to_keep]\n",
    "\n",
    "# Entferne alle Zeilen mit fehlenden Werten\n",
    "data.dropna(inplace=True)\n",
    "\n",
    "# Bereinige das 'Date of Construction', um nur das Jahr zu behalten\n",
    "data['Date of Construction'] = data['Date of Construction'].astype(str).apply(lambda x: x.split('-')[0]).astype(int)\n",
    "\n",
    "# Berechne das Alter des Gebäudes im Jahr 2024\n",
    "data['Age'] = 2024 - data['Date of Construction']\n",
    "\n",
    "# Speichere das bereinigte DataFrame als neue CSV-Datei\n",
    "new_file_path = 'new_bestehende_wohnungen.csv'\n",
    "data.to_csv(new_file_path, index=False)\n",
    "\n",
    "print(\"Die Datei wurde erfolgreich gespeichert.\")"
   ]
  },
  {
   "cell_type": "code",
   "execution_count": 1,
   "metadata": {},
   "outputs": [
    {
     "name": "stdout",
     "output_type": "stream",
     "text": [
      "-----------------------------------\n",
      "POSIX\n",
      "Darwin | 23.4.0\n",
      "Datetime: 2024-05-18 16:27:11\n",
      "Python Version: 3.10.9\n",
      "-----------------------------------\n"
     ]
    }
   ],
   "source": [
    "import os\n",
    "import platform\n",
    "import socket\n",
    "from platform import python_version\n",
    "from datetime import datetime\n",
    "\n",
    "print('-----------------------------------')\n",
    "print(os.name.upper())\n",
    "print(platform.system(), '|', platform.release())\n",
    "print('Datetime:', datetime.now().strftime(\"%Y-%m-%d %H:%M:%S\"))\n",
    "print('Python Version:', python_version())\n",
    "print('-----------------------------------')"
   ]
  }
 ],
 "metadata": {
  "kernelspec": {
   "display_name": "spenv",
   "language": "python",
   "name": "python3"
  },
  "language_info": {
   "codemirror_mode": {
    "name": "ipython",
    "version": 3
   },
   "file_extension": ".py",
   "mimetype": "text/x-python",
   "name": "python",
   "nbconvert_exporter": "python",
   "pygments_lexer": "ipython3",
   "version": "3.10.9"
  }
 },
 "nbformat": 4,
 "nbformat_minor": 2
}
